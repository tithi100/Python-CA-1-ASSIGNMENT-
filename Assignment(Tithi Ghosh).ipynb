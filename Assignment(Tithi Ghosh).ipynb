{
 "cells": [
  {
   "cell_type": "code",
   "execution_count": 1,
   "id": "719e4df7-96a7-4ffa-bcc5-091787f49c9d",
   "metadata": {},
   "outputs": [
    {
     "name": "stdout",
     "output_type": "stream",
     "text": [
      "Sum: 13.700000000000001, Average: 4.566666666666667\n"
     ]
    }
   ],
   "source": [
    "#1.\tWrite a program in Python to find the addition & average of three float numbers.\n",
    "num1, num2, num3 = 3.5, 7.8, 2.4\n",
    "sum_numbers = num1 + num2 + num3\n",
    "average = sum_numbers / 3\n",
    "print(f'Sum: {sum_numbers}, Average: {average}')\n"
   ]
  },
  {
   "cell_type": "code",
   "execution_count": 2,
   "id": "80bfd601-c3d9-4e62-ba80-900adaf0a1a3",
   "metadata": {},
   "outputs": [
    {
     "name": "stdout",
     "output_type": "stream",
     "text": [
      "The volume of the sphere is:  904.7786842338603\n"
     ]
    }
   ],
   "source": [
    "#2.\tWrite a program in Python to find the volume of a sphere with radius  6cm\n",
    "pi = 3.1415926535897931\n",
    "r = 6.0\n",
    "V = 4.0/3.0 * pi * r**3\n",
    "print('The volume of the sphere is: ', V)"
   ]
  },
  {
   "cell_type": "code",
   "execution_count": 1,
   "id": "8f5cbc38-d484-4671-9528-d4be922c8019",
   "metadata": {},
   "outputs": [
    {
     "name": "stdout",
     "output_type": "stream",
     "text": [
      "Area of circle is: 50.26548245743669\n"
     ]
    }
   ],
   "source": [
    "#3.\tWrite a program in Python to find the area of a circle\n",
    "import math\n",
    "def area(r):\n",
    "  area = math.pi* pow(r,2)\n",
    "  return print('Area of circle is:' ,area)\n",
    "area(4)"
   ]
  },
  {
   "cell_type": "code",
   "execution_count": 2,
   "id": "c00b1e85-f151-47ce-870a-97bf0822b938",
   "metadata": {},
   "outputs": [
    {
     "name": "stdout",
     "output_type": "stream",
     "text": [
      "The principal is 5\n",
      "The time period is 7\n",
      "The rate of interest is 7\n",
      "The Simple Interest is 2.45\n"
     ]
    },
    {
     "data": {
      "text/plain": [
       "2.45"
      ]
     },
     "execution_count": 2,
     "metadata": {},
     "output_type": "execute_result"
    }
   ],
   "source": [
    " #4.Write a program in Python to compute simple Interest.\n",
    "def simple_interest(p,t,r):\n",
    "    print('The principal is', p)\n",
    "    print('The time period is', t)\n",
    "    print('The rate of interest is',r)\n",
    "    si = (p * t * r)/100\n",
    "    print('The Simple Interest is', si)\n",
    "    return si\n",
    "simple_interest(5, 7, 7)"
   ]
  },
  {
   "cell_type": "code",
   "execution_count": 3,
   "id": "7c2b26f0-c0c9-4e1b-948b-1bd7a3a158f4",
   "metadata": {},
   "outputs": [
    {
     "name": "stdout",
     "output_type": "stream",
     "text": [
      "Before swapping: \n",
      "Value of x :  10  and y :  15\n",
      "After swapping: \n",
      "Value of x :  15  and y :  10\n"
     ]
    }
   ],
   "source": [
    "#5.\tWrite a program in Python to swap two numbers without using third variable\n",
    "x = 10\n",
    "y = 15\n",
    "print (\"Before swapping: \")\n",
    "print(\"Value of x : \", x, \" and y : \", y)\n",
    "x, y = y, x\n",
    "print (\"After swapping: \")\n",
    "print(\"Value of x : \", x, \" and y : \", y)"
   ]
  },
  {
   "cell_type": "code",
   "execution_count": 4,
   "id": "f063e5b5-9cf2-444d-8123-3b3486ba97bf",
   "metadata": {},
   "outputs": [
    {
     "name": "stdin",
     "output_type": "stream",
     "text": [
      "Enter temperature in Celsius:  48\n"
     ]
    },
    {
     "name": "stdout",
     "output_type": "stream",
     "text": [
      "48.0°C is equal to 118.4°F\n"
     ]
    }
   ],
   "source": [
    "#6.\tWrite a program in Python to convert any temperature from Celcius to Fahrenheit. \n",
    "def celsius_to_fahrenheit(celsius):\n",
    "    fahrenheit = (celsius * 9/5) + 32\n",
    "    return fahrenheit\n",
    "celsius = float(input(\"Enter temperature in Celsius: \"))\n",
    "fahrenheit = celsius_to_fahrenheit(celsius)\n",
    "print(f\"{celsius}°C is equal to {fahrenheit}°F\")"
   ]
  },
  {
   "cell_type": "code",
   "execution_count": 5,
   "id": "34a8ffc7-2175-4198-b209-f921496afc08",
   "metadata": {},
   "outputs": [
    {
     "name": "stdout",
     "output_type": "stream",
     "text": [
      "Enter the Number of Days: \n"
     ]
    },
    {
     "name": "stdin",
     "output_type": "stream",
     "text": [
      " 37\n"
     ]
    },
    {
     "name": "stdout",
     "output_type": "stream",
     "text": [
      "Total Number of Year(s): \n",
      "0\n",
      "Total Number of Week(s):\n",
      "5\n",
      "Total Number of Day(s):\n",
      "2\n"
     ]
    }
   ],
   "source": [
    "#7.\tWrite a program in Python to convert a given number of days into days, month, year and week.\n",
    "print(\"Enter the Number of Days: \")\n",
    "num = int(input())\n",
    "\n",
    "year = int(num/365)\n",
    "week = int((num%365)/7)\n",
    "days = int((num%365)%7)\n",
    "\n",
    "print(\"Total Number of Year(s): \")\n",
    "print(year)\n",
    "print(\"Total Number of Week(s):\")\n",
    "print(week)\n",
    "print(\"Total Number of Day(s):\")\n",
    "print(days)"
   ]
  },
  {
   "cell_type": "code",
   "execution_count": 9,
   "id": "833bd98c-da32-42d7-9daf-31d88683119d",
   "metadata": {},
   "outputs": [
    {
     "name": "stdin",
     "output_type": "stream",
     "text": [
      "Enter the first mass:  150\n",
      "Enter the second mass:  20\n",
      "Enter the distance between the centres of the masses:  50\n"
     ]
    },
    {
     "name": "stdout",
     "output_type": "stream",
     "text": [
      "Hence, the gravitational force is:  0.0 N\n"
     ]
    }
   ],
   "source": [
    "#8.\tWrite a Python Program to find the gravitational force acting between two objects.\n",
    "#[G=N*(m1*m2)/d^2]\n",
    "m1=float(input(\"Enter the first mass: \"))\n",
    "m2=float(input(\"Enter the second mass: \"))\n",
    "d=float(input(\"Enter the distance between the centres of the masses: \"))\n",
    "G=6.673*(10**-11)\n",
    "f=(G*m1*m2)/(d**2)\n",
    "print(\"Hence, the gravitational force is: \",round(f,2),\"N\")"
   ]
  },
  {
   "cell_type": "code",
   "execution_count": 10,
   "id": "e9210320-c96f-4134-9694-ec85144ed516",
   "metadata": {},
   "outputs": [
    {
     "name": "stdin",
     "output_type": "stream",
     "text": [
      "Enter a number:  10\n"
     ]
    },
    {
     "name": "stdout",
     "output_type": "stream",
     "text": [
      "10 is Even\n"
     ]
    }
   ],
   "source": [
    "#9.\tWrite a program in Python to find given no is Even or Odd.\n",
    "num = int(input(\"Enter a number: \"))\n",
    "if (num % 2) == 0:\n",
    "   print(\"{0} is Even\".format(num))\n",
    "else:\n",
    "   print(\"{0} is Odd\".format(num))"
   ]
  },
  {
   "cell_type": "code",
   "execution_count": 11,
   "id": "4d0c2384-ae21-4d08-8402-2d0206ebcc6c",
   "metadata": {},
   "outputs": [
    {
     "name": "stdin",
     "output_type": "stream",
     "text": [
      "Enter a number :  30\n"
     ]
    },
    {
     "name": "stdout",
     "output_type": "stream",
     "text": [
      "30\n"
     ]
    }
   ],
   "source": [
    "#10.\tTake input from user if it is greater than 15 print two times of difference if it’s less than 15 print four times of difference.\n",
    "num = int(input(\"Enter a number : \"))\n",
    "\n",
    "if num > 15 :\n",
    "    print(2*(abs(num-15)))\n",
    "else:\n",
    "    print(4*(abs(num-15)))"
   ]
  },
  {
   "cell_type": "code",
   "execution_count": 12,
   "id": "b810089b-46cd-46cc-9c9a-48f46da857fa",
   "metadata": {},
   "outputs": [
    {
     "name": "stdout",
     "output_type": "stream",
     "text": [
      "The largest number is 14\n"
     ]
    }
   ],
   "source": [
    "#11.\tWrite a program in Python to find largest among three numbers.\n",
    "num1 = 10\n",
    "num2 = 14\n",
    "num3 = 12\n",
    "if (num1 >= num2) and (num1 >= num3):\n",
    "   largest = num1\n",
    "elif (num2 >= num1) and (num2 >= num3):\n",
    "   largest = num2\n",
    "else:\n",
    "   largest = num3\n",
    "\n",
    "print(\"The largest number is\", largest)"
   ]
  },
  {
   "cell_type": "code",
   "execution_count": 13,
   "id": "b7b63682-0c4c-4c4d-a670-42577fb50724",
   "metadata": {},
   "outputs": [
    {
     "name": "stdout",
     "output_type": "stream",
     "text": [
      "Scalene Triangle\n"
     ]
    }
   ],
   "source": [
    "#12.\tWrite a program in Python to check a triangle is equilateral,scalene or isosclees.\n",
    "def checkTriangle(x, y, z):\n",
    "\tif x == y == z:\n",
    "\t\tprint(\"Equilateral Triangle\")\n",
    "\telif x == y or y == z or z == x:\n",
    "\t\tprint(\"Isosceles Triangle\")\n",
    "\telse:\n",
    "\t\tprint(\"Scalene Triangle\")\n",
    "x = 8\n",
    "y = 7\n",
    "z = 9\n",
    "checkTriangle(x, y, z)"
   ]
  },
  {
   "cell_type": "code",
   "execution_count": 14,
   "id": "de1e6cf7-30e2-427b-b3f8-20a0f7c52383",
   "metadata": {},
   "outputs": [
    {
     "name": "stdin",
     "output_type": "stream",
     "text": [
      "Enter year to be checked: 2024\n"
     ]
    },
    {
     "name": "stdout",
     "output_type": "stream",
     "text": [
      "The year is a leap year!\n"
     ]
    }
   ],
   "source": [
    "#13.\tWrite a program in Python to check a given year is leapyear or not.\n",
    "year=int(input(\"Enter year to be checked:\"))\n",
    "if(year%4==0 and year%100!=0 or year%400==0):\n",
    "    print(\"The year is a leap year!\")\n",
    "else:\n",
    "    print(\"The year isn't a leap year!\")"
   ]
  },
  {
   "cell_type": "code",
   "execution_count": 1,
   "id": "af3f47b0-5cf3-4dbe-bbc6-f7a93aaed190",
   "metadata": {},
   "outputs": [
    {
     "name": "stdin",
     "output_type": "stream",
     "text": [
      "Enter marks of the first subject:  80\n",
      "Enter marks of the second subject:  70\n",
      "Enter marks of the third subject:  90\n",
      "Enter marks of the fourth subject:  85\n",
      "Enter marks of the fifth subject:  60\n"
     ]
    },
    {
     "name": "stdout",
     "output_type": "stream",
     "text": [
      "Grade: A\n"
     ]
    }
   ],
   "source": [
    "#14.\tTake marks of a student of four different subject find average depending on average find Grade(if marks >=75 i.e,’A’ or >=60 but <=75 i.e,’B’ or >=40 but <=60 i.e,’C’ or <=40 i.e,’D’).\n",
    "sub1 = int(input(\"Enter marks of the first subject: \"))\n",
    "sub2 = int(input(\"Enter marks of the second subject: \"))\n",
    "sub3 = int(input(\"Enter marks of the third subject: \"))\n",
    "sub4 = int(input(\"Enter marks of the fourth subject: \"))\n",
    "sub5 = int(input(\"Enter marks of the fifth subject: \"))\n",
    "\n",
    "# Calculate the average of the five subjects\n",
    "avg = (sub1 + sub2 + sub3 + sub4 + sub5) / 5\n",
    "\n",
    "# Determine the grade based on the average\n",
    "if avg >= 75:\n",
    "    print(\"Grade: A\")\n",
    "elif avg >= 60 and avg < 75:\n",
    "    print(\"Grade: B\")\n",
    "elif avg >= 40 and avg < 60:\n",
    "    print(\"Grade: C\")\n",
    "elif avg < 40:\n",
    "    print(\"Grade: D\")\n"
   ]
  },
  {
   "cell_type": "code",
   "execution_count": 19,
   "id": "15b7dc73-1108-46fb-b51f-0d3ad57db62e",
   "metadata": {},
   "outputs": [
    {
     "name": "stdout",
     "output_type": "stream",
     "text": [
      "Select operation.\n",
      "1.Add\n",
      "2.Subtract\n",
      "3.Multiply\n",
      "4.Divide\n"
     ]
    },
    {
     "name": "stdin",
     "output_type": "stream",
     "text": [
      "Enter choice(1/2/3/4 3\n",
      "Enter first number:  50\n",
      "Enter second number:  40\n"
     ]
    },
    {
     "name": "stdout",
     "output_type": "stream",
     "text": [
      "50.0 * 40.0 = 2000.0\n"
     ]
    },
    {
     "name": "stdin",
     "output_type": "stream",
     "text": [
      "Let's do next calculation? (yes/no):  no\n"
     ]
    }
   ],
   "source": [
    "#15.\tWrite a program in Python to implement a simple calculator\n",
    "def add(x, y):\n",
    "    return x + y\n",
    "def subtract(x, y):\n",
    "    return x - y\n",
    "def multiply(x, y):\n",
    "    return x * y\n",
    "def divide(x, y):\n",
    "    return x / y\n",
    "print(\"Select operation.\")\n",
    "print(\"1.Add\")\n",
    "print(\"2.Subtract\")\n",
    "print(\"3.Multiply\")\n",
    "print(\"4.Divide\")\n",
    "\n",
    "while True:\n",
    "    choice = input(\"Enter choice(1/2/3/4\") \n",
    "    if choice in ('1', '2', '3', '4'):\n",
    "        try:\n",
    "            num1 = float(input(\"Enter first number: \"))\n",
    "            num2 = float(input(\"Enter second number: \"))\n",
    "        except ValueError:\n",
    "            print(\"Invalid input. Please enter a number.\")\n",
    "            continue\n",
    "\n",
    "        if choice == '1':\n",
    "            print(num1, \"+\", num2, \"=\", add(num1, num2))\n",
    "\n",
    "        elif choice == '2':\n",
    "            print(num1, \"-\", num2, \"=\", subtract(num1, num2))\n",
    "\n",
    "        elif choice == '3':\n",
    "            print(num1, \"*\", num2, \"=\", multiply(num1, num2))\n",
    "\n",
    "        elif choice == '4':\n",
    "            print(num1, \"/\", num2, \"=\", divide(num1, num2))\n",
    "        next_calculation = input(\"Let's do next calculation? (yes/no): \")\n",
    "        if next_calculation == \"no\":\n",
    "          break\n",
    "    else:\n",
    "        print(\"Invalid Input\")"
   ]
  },
  {
   "cell_type": "code",
   "execution_count": 20,
   "id": "d577f70c-006f-4563-a6d7-dd6aee6cd05c",
   "metadata": {},
   "outputs": [
    {
     "name": "stdout",
     "output_type": "stream",
     "text": [
      "Equation: ax^2 + bx + c \n"
     ]
    },
    {
     "name": "stdin",
     "output_type": "stream",
     "text": [
      "Enter a:  2\n",
      "Enter b:  4\n",
      "Enter c:  3\n"
     ]
    },
    {
     "name": "stdout",
     "output_type": "stream",
     "text": [
      "The roots are imaginary. \n"
     ]
    }
   ],
   "source": [
    "#16.\tWrite a program in Python to find the roots of Quadratic equation.\n",
    "print(\"Equation: ax^2 + bx + c \")\n",
    "a=int(input(\"Enter a: \"))\n",
    "b=int(input(\"Enter b: \"))\n",
    "c=int(input(\"Enter c: \"))\n",
    "d=b**2-4*a*c\n",
    "d1=d**0.5\n",
    "if(d<0):\n",
    "    print(\"The roots are imaginary. \")\n",
    "else:\n",
    "    r1=(-b+d1)/2*a\n",
    "    r2=(-b-d1)/2*a\n",
    "    print(\"The first root: \",round(r1,2))\n",
    "    print(\"The second root: \",round(r2,2))"
   ]
  },
  {
   "cell_type": "code",
   "execution_count": 21,
   "id": "55fc7792-f27e-4e21-98ea-398616e45e51",
   "metadata": {},
   "outputs": [
    {
     "name": "stdin",
     "output_type": "stream",
     "text": [
      "Enter the value of n:  5\n"
     ]
    },
    {
     "name": "stdout",
     "output_type": "stream",
     "text": [
      "1\n",
      "2\n",
      "3\n",
      "4\n",
      "5\n"
     ]
    }
   ],
   "source": [
    "#17.\tWrite a program in Python to print 1 to n.\n",
    "def print_numbers(n):\n",
    "    for i in range(1, n + 1):\n",
    "        print(i)\n",
    "n = int(input(\"Enter the value of n: \"))\n",
    "print_numbers(n)"
   ]
  },
  {
   "cell_type": "code",
   "execution_count": 22,
   "id": "787962d0-3a28-454f-a88c-10eea2b53ca5",
   "metadata": {},
   "outputs": [
    {
     "name": "stdout",
     "output_type": "stream",
     "text": [
      "The sum is 210\n"
     ]
    }
   ],
   "source": [
    "#18.\tWrite a program in Python to print sum of natural number.\n",
    "num = 20\n",
    "if num < 0:\n",
    "   print(\"Enter a positive number\")\n",
    "else:\n",
    "   sum = 0\n",
    "   # use while loop to iterate until zero\n",
    "   while(num > 0):\n",
    "       sum += num\n",
    "       num -= 1\n",
    "   print(\"The sum is\", sum)"
   ]
  },
  {
   "cell_type": "code",
   "execution_count": 23,
   "id": "7d773f43-268a-4ea7-bd7c-a980fd7c0e3c",
   "metadata": {},
   "outputs": [
    {
     "name": "stdout",
     "output_type": "stream",
     "text": [
      "15\n"
     ]
    }
   ],
   "source": [
    "#19.\tWrite a program in Python to print Sum of Digit.\n",
    "def getSum(n): \n",
    "   \n",
    "    sum = 0\n",
    "    for digit in str(n):  \n",
    "      sum += int(digit)       \n",
    "    return sum\n",
    "  \n",
    "n = 12345\n",
    "print(getSum(n))"
   ]
  },
  {
   "cell_type": "code",
   "execution_count": 24,
   "id": "b0f59675-0810-44a6-812f-93a0793d4fef",
   "metadata": {},
   "outputs": [
    {
     "name": "stdout",
     "output_type": "stream",
     "text": [
      "The factors of 320 are:\n",
      "1\n",
      "2\n",
      "4\n",
      "5\n",
      "8\n",
      "10\n",
      "16\n",
      "20\n",
      "32\n",
      "40\n",
      "64\n",
      "80\n",
      "160\n",
      "320\n"
     ]
    }
   ],
   "source": [
    "#20.\tWrite a program in Python to print Factors of a Number.\n",
    "def print_factors(x):\n",
    "   print(\"The factors of\",x,\"are:\")\n",
    "   for i in range(1, x + 1):\n",
    "       if x % i == 0:\n",
    "           print(i)\n",
    "num = 320\n",
    "print_factors(num)"
   ]
  },
  {
   "cell_type": "code",
   "execution_count": 25,
   "id": "0bedc966-a048-4c99-899e-54cd859f8819",
   "metadata": {},
   "outputs": [
    {
     "name": "stdout",
     "output_type": "stream",
     "text": [
      "Reversed Number: 654321\n"
     ]
    }
   ],
   "source": [
    "#21.\tWrite a program in Python to print Reverse of a Number.\n",
    "num =123456\n",
    "reversed_num = 0\n",
    "while num != 0:\n",
    "    digit = num % 10\n",
    "    reversed_num = reversed_num * 10 + digit\n",
    "    num //= 10\n",
    "print(\"Reversed Number: \" + str(reversed_num))"
   ]
  },
  {
   "cell_type": "code",
   "execution_count": 26,
   "id": "f2203f72-2a6a-4cc6-a5a0-a824c28f16c3",
   "metadata": {},
   "outputs": [
    {
     "name": "stdout",
     "output_type": "stream",
     "text": [
      "The factorial of 6 is 720\n"
     ]
    }
   ],
   "source": [
    "#22.\tWrite a Python program to find Factorial of a given number.\n",
    "num = 6\n",
    "factorial = 1\n",
    "for i in range(1, num + 1):\n",
    "    factorial *= i\n",
    "print(f\"The factorial of {num} is {factorial}\")"
   ]
  },
  {
   "cell_type": "code",
   "execution_count": 27,
   "id": "6981e1e5-7b4c-4424-a7de-333004ba59f8",
   "metadata": {},
   "outputs": [
    {
     "name": "stdout",
     "output_type": "stream",
     "text": [
      "Palindrome\n"
     ]
    }
   ],
   "source": [
    "#23.\tWrite a Python program to check a number is palindrome or not.\n",
    "num = 121\n",
    "temp = num\n",
    "reverse = 0\n",
    "while temp > 0:\n",
    "    remainder = temp % 10\n",
    "    reverse = (reverse * 10) + remainder\n",
    "    temp = temp // 10\n",
    "if num == reverse:\n",
    "  print('Palindrome')\n",
    "else:\n",
    "  print(\"Not Palindrome\")"
   ]
  },
  {
   "cell_type": "code",
   "execution_count": 28,
   "id": "c54c5899-e59d-4c5c-8b66-39751624790b",
   "metadata": {},
   "outputs": [
    {
     "name": "stdout",
     "output_type": "stream",
     "text": [
      "11 is a prime number\n"
     ]
    }
   ],
   "source": [
    "#24.\tWrite a Python program to check a number is prime or not.\n",
    "num = 11\n",
    "if num > 1:\n",
    "    for i in range(2, (num//2)+1):\n",
    "        if (num % i) == 0:\n",
    "            print(num, \"is not a prime number\")\n",
    "            break\n",
    "    else:\n",
    "        print(num, \"is a prime number\")\n",
    "else:\n",
    "    print(num, \"is not a prime number\")"
   ]
  },
  {
   "cell_type": "code",
   "execution_count": 29,
   "id": "6296b8ff-4745-4552-922f-4c7f8805a6ff",
   "metadata": {},
   "outputs": [
    {
     "name": "stdin",
     "output_type": "stream",
     "text": [
      "Enter a number:  20\n"
     ]
    },
    {
     "name": "stdout",
     "output_type": "stream",
     "text": [
      "20 is not an Armstrong number\n"
     ]
    }
   ],
   "source": [
    "#25.\tWrite a Python program to check a number is Armstrong or not.\n",
    "num = int(input(\"Enter a number: \"))\n",
    "sum = 0\n",
    "temp = num\n",
    "while temp > 0:\n",
    "   digit = temp % 10\n",
    "   sum += digit ** 3\n",
    "   temp //= 10\n",
    "if num == sum:\n",
    "   print(num,\"is an Armstrong number\")\n",
    "else:\n",
    "   print(num,\"is not an Armstrong number\")"
   ]
  },
  {
   "cell_type": "code",
   "execution_count": 30,
   "id": "64c2c9d5-20ac-4d5d-95ad-6489e3fa3f67",
   "metadata": {},
   "outputs": [
    {
     "name": "stdout",
     "output_type": "stream",
     "text": [
      "34\n"
     ]
    }
   ],
   "source": [
    "#26.\tWrite a Python program to print Fibonacci series of n term\n",
    "def Fibonacci(n):\n",
    "\tif n<= 0:\n",
    "\t\tprint(\"Incorrect input\")\n",
    "\telif n == 1:\n",
    "\t\treturn 0\n",
    "\telif n == 2:\n",
    "\t\treturn 1\n",
    "\telse:\n",
    "\t\treturn Fibonacci(n-1)+Fibonacci(n-2)\n",
    "print(Fibonacci(10))"
   ]
  },
  {
   "cell_type": "code",
   "execution_count": 31,
   "id": "d7af3c92-668d-40e0-86be-c480a03b75b1",
   "metadata": {},
   "outputs": [
    {
     "name": "stdout",
     "output_type": "stream",
     "text": [
      "15 x 1 = 15\n",
      "15 x 2 = 30\n",
      "15 x 3 = 45\n",
      "15 x 4 = 60\n",
      "15 x 5 = 75\n",
      "15 x 6 = 90\n",
      "15 x 7 = 105\n",
      "15 x 8 = 120\n",
      "15 x 9 = 135\n",
      "15 x 10 = 150\n"
     ]
    }
   ],
   "source": [
    "#27.\tWrite a Python program to implement multiplication table.\n",
    "num = 15\n",
    "for i in range(1, 11):\n",
    "   print(num, 'x', i, '=', num*i)"
   ]
  },
  {
   "cell_type": "code",
   "execution_count": 32,
   "id": "82c01c82-d715-4e18-815c-8be623e2df71",
   "metadata": {},
   "outputs": [
    {
     "name": "stdin",
     "output_type": "stream",
     "text": [
      "Enter number of elements :  5\n",
      " 2\n",
      " 8\n",
      " 37\n",
      " 12\n",
      " 38\n"
     ]
    },
    {
     "name": "stdout",
     "output_type": "stream",
     "text": [
      "[2, 8, 37, 12, 38]\n"
     ]
    }
   ],
   "source": [
    "#28.\tWrite a Python program to take a input from user in a list and print it.\n",
    "lst = []\n",
    "n = int(input(\"Enter number of elements : \"))\n",
    "for i in range(0, n):\n",
    "\tele = int(input())\n",
    "\tlst.append(ele) \n",
    "print(lst)"
   ]
  },
  {
   "cell_type": "code",
   "execution_count": 1,
   "id": "6adfc54f-3bf0-4f0a-a4e2-8f388af3286b",
   "metadata": {},
   "outputs": [
    {
     "name": "stdin",
     "output_type": "stream",
     "text": [
      "Enter the number of elements:  6\n",
      "Enter number 1:  5\n",
      "Enter number 2:  58\n",
      "Enter number 3:  5\n",
      "Enter number 4:  61\n",
      "Enter number 5:  85\n",
      "Enter number 6:  23\n"
     ]
    },
    {
     "name": "stdout",
     "output_type": "stream",
     "text": [
      "The average of the entered numbers is: 39.5\n"
     ]
    }
   ],
   "source": [
    "#29.\tWrite a Python program to find the average of n numbers using list.\n",
    "numbers = []\n",
    "n = int(input(\"Enter the number of elements: \"))\n",
    "for i in range(n):\n",
    "    num = float(input(f\"Enter number {i+1}: \"))\n",
    "    numbers.append(num)\n",
    "average = sum(numbers) / n\n",
    "print(f\"The average of the entered numbers is: {average}\")"
   ]
  },
  {
   "cell_type": "code",
   "execution_count": 2,
   "id": "3e72837d-f5d3-4dbc-ac7e-4f148a71fa4f",
   "metadata": {},
   "outputs": [
    {
     "name": "stdout",
     "output_type": "stream",
     "text": [
      "Largest element is: 99\n"
     ]
    }
   ],
   "source": [
    "#30.\tWrite a Python program to find the largest element in the list.\n",
    "list1 = [10, 20, 4, 45, 99]\n",
    "sorted(list1)\n",
    "print(\"Largest element is:\", list1[-1])"
   ]
  },
  {
   "cell_type": "code",
   "execution_count": 3,
   "id": "3ed5f39e-1195-444f-9e53-fc96673338f3",
   "metadata": {},
   "outputs": [
    {
     "name": "stdout",
     "output_type": "stream",
     "text": [
      "Element found at index:  4\n"
     ]
    }
   ],
   "source": [
    "#31.\tWrite a Python program to perform Linear search.\n",
    "def linearSearch(array, n, x):\n",
    "    for i in range(0, n):\n",
    "        if (array[i] == x):\n",
    "            return i\n",
    "    return -1\n",
    "array = [2, 4, 0, 1, 9]\n",
    "x = 9\n",
    "n = len(array)\n",
    "result = linearSearch(array, n, x)\n",
    "if(result == -1):\n",
    "    print(\"Element not found\")\n",
    "else:\n",
    "    print(\"Element found at index: \", result)"
   ]
  },
  {
   "cell_type": "code",
   "execution_count": null,
   "id": "774fc027-bdf4-47ce-98ae-446a74a72d9f",
   "metadata": {},
   "outputs": [
    {
     "name": "stdout",
     "output_type": "stream",
     "text": [
      "Enter your sentences (press Enter without typing to finish input):\n"
     ]
    },
    {
     "name": "stdin",
     "output_type": "stream",
     "text": [
      " HELLO WORLD\n",
      " PRACTICE MAKES PERFECT\n"
     ]
    }
   ],
   "source": [
    "#32.\tWrite a program that accepts sequence of lines as input and prints the lines after making all characters in the sentence capitalized.\n",
    "#Suppose the following input is supplied to the program:\n",
    "#Hello world Practice makes perfectThen, the output should be:HELLO WORLD PRACTICE MAKES PERFECT\n",
    "lines = []\n",
    "print(\"Enter your sentences (press Enter without typing to finish input):\")\n",
    "while True:\n",
    "    line = input()\n",
    "    if line: \n",
    "        lines.append(line)\n",
    "    else:\n",
    "        break \n",
    "print(\"\\nOutput:\")\n",
    "for line in lines:\n",
    "    print(line.upper())"
   ]
  },
  {
   "cell_type": "code",
   "execution_count": 1,
   "id": "67c91123-6068-4ea5-9112-14f090eb8ab8",
   "metadata": {},
   "outputs": [
    {
     "name": "stdin",
     "output_type": "stream",
     "text": [
      "Enter comma-separated numbers:  [52,45,32,43,85,69]\n"
     ]
    },
    {
     "name": "stdout",
     "output_type": "stream",
     "text": [
      "List: ['[52', '45', '32', '43', '85', '69]']\n",
      "Tuple: ('[52', '45', '32', '43', '85', '69]')\n"
     ]
    }
   ],
   "source": [
    "#33.\tWrite a program which accepts a sequence of comma‐separated numbers from console and generate a list and a tuple which contains every number.\n",
    "input_data = input(\"Enter comma-separated numbers: \")\n",
    "numbers_list = input_data.split(\",\")\n",
    "numbers_tuple = tuple(numbers_list)\n",
    "print(\"List:\", numbers_list)\n",
    "print(\"Tuple:\", numbers_tuple)"
   ]
  },
  {
   "cell_type": "code",
   "execution_count": null,
   "id": "e8a3b3fd-dc44-466a-9de2-34a6b9f01dbd",
   "metadata": {},
   "outputs": [
    {
     "name": "stdin",
     "output_type": "stream",
     "text": [
      " Net amount:500\n"
     ]
    }
   ],
   "source": [
    "#34.\tWrite a program that computes the net amount of a bank account based a transaction log from console input.\n",
    "net_amount = 0\n",
    "while True:\n",
    "    transaction = input()\n",
    "    if not transaction:\n",
    "        break\n",
    "    transaction_type, amount = transaction.split()\n",
    "    amount = int(amount)\n",
    "    if transaction_type == 'D':\n",
    "        net_amount += amount\n",
    "    elif transaction_type == 'W':\n",
    "        net_amount -= amount\n",
    "\n",
    "print(f\"Net amount: {net_amount}\")"
   ]
  }
 ],
 "metadata": {
  "kernelspec": {
   "display_name": "Python 3 (ipykernel)",
   "language": "python",
   "name": "python3"
  },
  "language_info": {
   "codemirror_mode": {
    "name": "ipython",
    "version": 3
   },
   "file_extension": ".py",
   "mimetype": "text/x-python",
   "name": "python",
   "nbconvert_exporter": "python",
   "pygments_lexer": "ipython3",
   "version": "3.12.5"
  }
 },
 "nbformat": 4,
 "nbformat_minor": 5
}
